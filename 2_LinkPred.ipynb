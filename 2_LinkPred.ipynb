{
 "cells": [
  {
   "cell_type": "markdown",
   "metadata": {},
   "source": [
    "# Link Prediction"
   ]
  },
  {
   "cell_type": "code",
   "execution_count": 16,
   "metadata": {},
   "outputs": [],
   "source": [
    "import matplotlib.pyplot as plt\n",
    "import networkx as nx\n",
    "import linkpred\n",
    "import random\n",
    "import pickle\n",
    "from random import randint\n",
    "\n",
    "def removedg(g):\n",
    "    rem_edges = []    \n",
    "    for edge in g.edges():\n",
    "        if random.random() < 0.2: \n",
    "            rem_edges.append(edge) \n",
    "    return rem_edges\n",
    "\n",
    "\n",
    "net = linkpred.read_network('data/ue_25m_1750_E.edgelist')\n",
    "net.remove_edges_from(nx.selfloop_edges(net))"
   ]
  },
  {
   "cell_type": "code",
   "execution_count": 17,
   "metadata": {},
   "outputs": [
    {
     "data": {
      "text/plain": [
       "23941"
      ]
     },
     "execution_count": 17,
     "metadata": {},
     "output_type": "execute_result"
    }
   ],
   "source": [
    "len(net.edges)"
   ]
  },
  {
   "cell_type": "code",
   "execution_count": 18,
   "metadata": {},
   "outputs": [
    {
     "name": "stdout",
     "output_type": "stream",
     "text": [
      "Link prima della rimozione\n",
      " 23941\n",
      "\n",
      "Link rimossi: 4747\n",
      "\n",
      "Link dopo la rimozione\n",
      " 19194\n"
     ]
    }
   ],
   "source": [
    "print (\"Link prima della rimozione\\n\",len(net.edges))\n",
    "remov = removedg(net)                                   \n",
    "print(\"\\nLink rimossi:\",len(remov))\n",
    "net.remove_edges_from(remov)\n",
    "print (\"\\nLink dopo la rimozione\\n\",len(net.edges))"
   ]
  },
  {
   "cell_type": "code",
   "execution_count": 34,
   "metadata": {},
   "outputs": [],
   "source": [
    "test_set = set(linkpred.evaluation.Pair(u, v) for u, v in remov) #to make plot later"
   ]
  },
  {
   "cell_type": "code",
   "execution_count": 32,
   "metadata": {},
   "outputs": [
    {
     "name": "stdout",
     "output_type": "stream",
     "text": [
      "Numero corretti:  96\n",
      "Accuracy:  2.0223298925637243\n",
      "Numero corretti:  47\n",
      "Accuracy(200):  23.5\n"
     ]
    }
   ],
   "source": [
    "#COMMON NEIGHBOURS\n",
    "cn = linkpred.predictors.CommonNeighbours(net, excluded=net.edges())\n",
    "cn_results = cn.predict()\n",
    "\n",
    "\n",
    "ris=0\n",
    "ctop = cn_results.top(len(remov))\n",
    "for i in ctop:\n",
    "    if i in remov:\n",
    "        ris+=1\n",
    "print (\"Numero corretti: \", ris)\n",
    "print (\"Accuracy: \", ris*100/len(remov))\n",
    "\n",
    "\n",
    "ris=0\n",
    "ctop = cn_results.top(200)\n",
    "for i in ctop:\n",
    "    if i in remov:\n",
    "        ris+=1\n",
    "print (\"Numero corretti: \", ris)\n",
    "print (\"Accuracy(200): \", ris*100/200)"
   ]
  },
  {
   "cell_type": "code",
   "execution_count": 33,
   "metadata": {},
   "outputs": [
    {
     "name": "stdout",
     "output_type": "stream",
     "text": [
      "Numero corretti:  409\n",
      "Accuracy:  8.615967979776702\n",
      "Numero corretti:  63\n",
      "Accuracy(200):  31.5\n"
     ]
    }
   ],
   "source": [
    "#ADAMIC ADAR\n",
    "aa = linkpred.predictors.AdamicAdar(net, excluded=net.edges())\n",
    "aa_results = aa.predict()\n",
    "\n",
    "ris=0\n",
    "aatop = aa_results.top(len(remov))\n",
    "for i in aatop:\n",
    "    if i in remov:\n",
    "        ris+=1\n",
    "print (\"Numero corretti: \", ris)\n",
    "print (\"Accuracy: \", ris*100/len(remov))\n",
    "\n",
    "ris=0\n",
    "aatop = aa_results.top(200)\n",
    "for i in aatop:\n",
    "    if i in remov:\n",
    "        ris+=1\n",
    "print (\"Numero corretti: \", ris)\n",
    "print (\"Accuracy(200): \", ris*100/200)"
   ]
  },
  {
   "cell_type": "code",
   "execution_count": 36,
   "metadata": {},
   "outputs": [
    {
     "name": "stdout",
     "output_type": "stream",
     "text": [
      "70\n",
      "1.474615546661049\n",
      "0\n",
      "0.0\n"
     ]
    }
   ],
   "source": [
    "#JACCARD\n",
    "jc = linkpred.predictors.Jaccard(net, excluded=net.edges())\n",
    "jc_results = jc.predict()\n",
    "\n",
    "jtop = jc_results.top(len(remov))\n",
    "ris=0\n",
    "for i in jtop:\n",
    "    if i in remov:\n",
    "        ris+=1\n",
    "print (ris)\n",
    "print (ris*100/len(remov))\n",
    "\n",
    "jtop = jc_results.top(200)\n",
    "ris=0\n",
    "for i in jtop:\n",
    "    if i in remov:\n",
    "        ris+=1\n",
    "print (ris)\n",
    "print (ris*100/200)"
   ]
  },
  {
   "cell_type": "code",
   "execution_count": 37,
   "metadata": {},
   "outputs": [
    {
     "name": "stdout",
     "output_type": "stream",
     "text": [
      "Computing matrix powers: [############################################################] 5/5\n",
      "143\n",
      "Accuracy:  3.0124289024647144\n",
      "46\n",
      "Accuracy(200):  23.0\n"
     ]
    }
   ],
   "source": [
    "#KATZ\n",
    "ka = linkpred.predictors.Katz(net, excluded=net.edges()) # We aim to predict only new links, thus we exclude existing ones\n",
    "ka_results = ka.predict()\n",
    "\n",
    "ris=0\n",
    "ktop = ka_results.top(len(remov))\n",
    "for i in ktop:\n",
    "    if i in remov:\n",
    "        ris+=1\n",
    "print (ris)\n",
    "print (\"Accuracy: \",ris*100/len(remov))\n",
    "ris=0\n",
    "ktop = ka_results.top(200)\n",
    "for i in ktop:\n",
    "    if i in remov:\n",
    "        ris+=1\n",
    "print (ris)\n",
    "print (\"Accuracy(200): \",ris*100/200)"
   ]
  }
 ],
 "metadata": {
  "kernelspec": {
   "display_name": "Python 3",
   "language": "python",
   "name": "python3"
  },
  "language_info": {
   "codemirror_mode": {
    "name": "ipython",
    "version": 3
   },
   "file_extension": ".py",
   "mimetype": "text/x-python",
   "name": "python",
   "nbconvert_exporter": "python",
   "pygments_lexer": "ipython3",
   "version": "3.6.9"
  }
 },
 "nbformat": 4,
 "nbformat_minor": 2
}
